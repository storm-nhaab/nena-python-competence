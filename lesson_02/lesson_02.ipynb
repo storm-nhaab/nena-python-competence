{
 "cells": [
  {
   "cell_type": "code",
   "execution_count": 16,
   "id": "c38aa09c-0e51-4f97-8461-3c2f913b963c",
   "metadata": {},
   "outputs": [],
   "source": [
    "import pandas as pd\n",
    "import numpy as np\n",
    "import pprint"
   ]
  },
  {
   "cell_type": "markdown",
   "id": "55465229-851c-4e27-a9f3-4a7752e29b6f",
   "metadata": {
    "jp-MarkdownHeadingCollapsed": true,
    "tags": []
   },
   "source": [
    "# Basic mathematical operations"
   ]
  },
  {
   "cell_type": "markdown",
   "id": "b594e626-2d42-40a6-ae79-075d9fae456d",
   "metadata": {},
   "source": [
    "Python can do everything from highly advanced computations to simple arithmetic. Let's go over basic mathematical operators"
   ]
  },
  {
   "cell_type": "markdown",
   "id": "1cfe3552-3969-4418-a29b-4f8b42249b70",
   "metadata": {},
   "source": [
    "Addition"
   ]
  },
  {
   "cell_type": "code",
   "execution_count": 26,
   "id": "59609ffd-9993-4a31-9cbd-80ddac6d1169",
   "metadata": {},
   "outputs": [
    {
     "data": {
      "text/plain": [
       "10"
      ]
     },
     "execution_count": 26,
     "metadata": {},
     "output_type": "execute_result"
    }
   ],
   "source": [
    "5 + 5"
   ]
  },
  {
   "cell_type": "markdown",
   "id": "4ba90a3d-83d7-461c-997b-20ff67b5e687",
   "metadata": {},
   "source": [
    "Subtraction"
   ]
  },
  {
   "cell_type": "code",
   "execution_count": 29,
   "id": "4db95607-db31-4777-bdae-697fab09870a",
   "metadata": {},
   "outputs": [
    {
     "data": {
      "text/plain": [
       "18"
      ]
     },
     "execution_count": 29,
     "metadata": {},
     "output_type": "execute_result"
    }
   ],
   "source": [
    "20 - 2"
   ]
  },
  {
   "cell_type": "markdown",
   "id": "1bb54759-179d-4de7-85dc-bed932f188c9",
   "metadata": {},
   "source": [
    "Division"
   ]
  },
  {
   "cell_type": "code",
   "execution_count": 30,
   "id": "97c4678a-8a99-487b-a57e-c2ef73c9b887",
   "metadata": {},
   "outputs": [
    {
     "data": {
      "text/plain": [
       "5.0"
      ]
     },
     "execution_count": 30,
     "metadata": {},
     "output_type": "execute_result"
    }
   ],
   "source": [
    "10/2"
   ]
  },
  {
   "cell_type": "markdown",
   "id": "5b7b3ef8-4bb2-4793-8eb9-d042de330cd1",
   "metadata": {},
   "source": [
    "Multiplication"
   ]
  },
  {
   "cell_type": "code",
   "execution_count": 31,
   "id": "e70f8e25-572c-4b5d-a91f-f70e9ad052bb",
   "metadata": {},
   "outputs": [
    {
     "data": {
      "text/plain": [
       "10000"
      ]
     },
     "execution_count": 31,
     "metadata": {},
     "output_type": "execute_result"
    }
   ],
   "source": [
    "100*100"
   ]
  },
  {
   "cell_type": "markdown",
   "id": "7d776ca3-9532-4863-9d8c-cfe714f2e10c",
   "metadata": {},
   "source": [
    "Exponentiation"
   ]
  },
  {
   "cell_type": "code",
   "execution_count": 32,
   "id": "4306e6fb-ccec-4e6e-b3d4-dcece39c542a",
   "metadata": {},
   "outputs": [
    {
     "data": {
      "text/plain": [
       "1000"
      ]
     },
     "execution_count": 32,
     "metadata": {},
     "output_type": "execute_result"
    }
   ],
   "source": [
    "10**3"
   ]
  },
  {
   "cell_type": "markdown",
   "id": "d4237322-0e85-4e9a-a99d-953465faacdd",
   "metadata": {},
   "source": [
    "Python follows basic arithmetic rules"
   ]
  },
  {
   "cell_type": "code",
   "execution_count": 33,
   "id": "9a97789f-c9f0-4808-92de-aeee0021b6a8",
   "metadata": {},
   "outputs": [
    {
     "data": {
      "text/plain": [
       "25"
      ]
     },
     "execution_count": 33,
     "metadata": {},
     "output_type": "execute_result"
    }
   ],
   "source": [
    "5 + 10*2"
   ]
  },
  {
   "cell_type": "code",
   "execution_count": 36,
   "id": "b41ea0da-6b2f-40c9-b106-0762438f6b9a",
   "metadata": {},
   "outputs": [
    {
     "data": {
      "text/plain": [
       "11.0"
      ]
     },
     "execution_count": 36,
     "metadata": {},
     "output_type": "execute_result"
    }
   ],
   "source": [
    "((2 + 3)*5 - 3)/2"
   ]
  },
  {
   "cell_type": "markdown",
   "id": "1859e413-5cf9-412d-a570-57290f86f0e8",
   "metadata": {
    "jp-MarkdownHeadingCollapsed": true,
    "tags": []
   },
   "source": [
    "# Python Variables"
   ]
  },
  {
   "cell_type": "markdown",
   "id": "7bbe36ed-f5b2-42de-9fc6-3e3d8a487a9a",
   "metadata": {},
   "source": [
    "A python variable is used to store almost anything. By using variables we store somethings to accessible later. Let's see a few examples:\n",
    "\n",
    "Here we store the Integer 5 into the variable \"my_variable\"."
   ]
  },
  {
   "cell_type": "code",
   "execution_count": 20,
   "id": "979fccf7-3d0a-492c-b8db-de30cf3c5361",
   "metadata": {},
   "outputs": [],
   "source": [
    "my_variable = 5"
   ]
  },
  {
   "cell_type": "markdown",
   "id": "0d434afb-11d0-446d-b3b7-690b2e34960c",
   "metadata": {},
   "source": [
    "We can now refer to my_variable i.e. the integer 5 by just typing my variable."
   ]
  },
  {
   "cell_type": "code",
   "execution_count": 21,
   "id": "8291b8d5-d8d0-4e98-adb4-0361cafeb726",
   "metadata": {},
   "outputs": [
    {
     "data": {
      "text/plain": [
       "5"
      ]
     },
     "execution_count": 21,
     "metadata": {},
     "output_type": "execute_result"
    }
   ],
   "source": [
    "my_variable"
   ]
  },
  {
   "cell_type": "markdown",
   "id": "0bee5069-29f8-46de-b1ea-c6989cf5c4d8",
   "metadata": {},
   "source": [
    "We can always change the value of a variable, after it has been defined."
   ]
  },
  {
   "cell_type": "code",
   "execution_count": 22,
   "id": "acc0ebd2-3dcf-42ed-ad00-48eafbbf8779",
   "metadata": {},
   "outputs": [
    {
     "data": {
      "text/plain": [
       "6"
      ]
     },
     "execution_count": 22,
     "metadata": {},
     "output_type": "execute_result"
    }
   ],
   "source": [
    "my_variable = 6  \n",
    "my_variable"
   ]
  },
  {
   "cell_type": "markdown",
   "id": "733e70d2-c936-4d27-bb72-2c7f2d0e27ed",
   "metadata": {},
   "source": [
    "Thus the variable is a small container to store information and we can obtain that information by refering to the variable name"
   ]
  },
  {
   "cell_type": "markdown",
   "id": "8d61b43f-5a78-4a73-ad2b-d775e4fe34db",
   "metadata": {},
   "source": [
    "Let's see a few more examples: Here we multiple my_variable with 10 and print the results. Not that we do not change\n",
    "my_variable by doing this. For that, we need to assigh my_variable a new values using = sign."
   ]
  },
  {
   "cell_type": "code",
   "execution_count": 25,
   "id": "eb69d520-f08a-46d0-a17b-3bdea9fb906e",
   "metadata": {},
   "outputs": [
    {
     "data": {
      "text/plain": [
       "360"
      ]
     },
     "execution_count": 25,
     "metadata": {},
     "output_type": "execute_result"
    }
   ],
   "source": [
    "my_variable*10"
   ]
  },
  {
   "cell_type": "code",
   "execution_count": 24,
   "id": "0ad4a7e5-83da-4c1b-9d5d-d201a468b720",
   "metadata": {},
   "outputs": [],
   "source": [
    "my_variable = my_variable**2"
   ]
  },
  {
   "cell_type": "markdown",
   "id": "a2b5d58b-0659-4e6c-bdb2-60678e557c4a",
   "metadata": {},
   "source": [
    "What is \"my_varialble\" equal too?"
   ]
  },
  {
   "cell_type": "markdown",
   "id": "47d1c204-8fee-42d2-964b-da5bc07667e9",
   "metadata": {
    "jp-MarkdownHeadingCollapsed": true,
    "tags": []
   },
   "source": [
    "# Python Data Structures"
   ]
  },
  {
   "cell_type": "markdown",
   "id": "53042668-36ba-4947-a0b6-0efacac705c9",
   "metadata": {},
   "source": [
    "In this tutorial we will introduce the most important data structures in Python. It is expected that you alread know \n",
    "the basic types:\n",
    "* strings\n",
    "* integers\n",
    "* floats\n",
    "* booleans\n",
    "\n",
    "In this tutorial the follwing data types are introduced:\n",
    "\n",
    "* lists\n",
    "* tuples\n",
    "* dictionaries\n",
    "* dataframes\n",
    "* arrays (numpy)\n",
    "\n",
    "We will also look at basic logic in Python as wells as iterations using *for* and *while* loops (also called Controled-Flow Statements)"
   ]
  },
  {
   "cell_type": "markdown",
   "id": "a420fec8-c069-40de-acfc-06c6f3e17c05",
   "metadata": {},
   "source": [
    "## Lists"
   ]
  },
  {
   "cell_type": "markdown",
   "id": "42961ea7-578d-4d60-b97a-b74608a92eee",
   "metadata": {},
   "source": [
    "The list is a very common data type in Python and is used for many different things. We define a list in Python by wrapping a set of comma seperatated elements in two square brackets [...].\n",
    "\n",
    "A list consists of a set of elements in the following manner:"
   ]
  },
  {
   "cell_type": "code",
   "execution_count": 44,
   "id": "157ce13b-ec5b-4bdc-9859-ac3ed6512790",
   "metadata": {},
   "outputs": [
    {
     "data": {
      "text/plain": [
       "[1, 2, 3, 4]"
      ]
     },
     "execution_count": 44,
     "metadata": {},
     "output_type": "execute_result"
    }
   ],
   "source": [
    "mylist = [1, 2, 3, 4]\n",
    "mylist"
   ]
  },
  {
   "cell_type": "markdown",
   "id": "a9a8208e-458c-4f68-bc21-e3a61632a3c6",
   "metadata": {},
   "source": [
    "The elements can be basically any data type and you can mix between data types freely. "
   ]
  },
  {
   "cell_type": "code",
   "execution_count": 43,
   "id": "a8f3fd0d-f4fe-43bf-adcd-98f088a3ba9e",
   "metadata": {},
   "outputs": [
    {
     "data": {
      "text/plain": [
       "['string', True, 1, 0]"
      ]
     },
     "execution_count": 43,
     "metadata": {},
     "output_type": "execute_result"
    }
   ],
   "source": [
    "my_mixed_list = [\"string\", True, 1, 0]\n",
    "my_mixed_list"
   ]
  },
  {
   "cell_type": "markdown",
   "id": "aa549c0b-bbff-45f3-ac10-9e296b419bd4",
   "metadata": {},
   "source": [
    "You can even create lists within lists"
   ]
  },
  {
   "cell_type": "code",
   "execution_count": 61,
   "id": "748e603a-57c5-443a-acd7-c1fc91bba5fa",
   "metadata": {},
   "outputs": [
    {
     "data": {
      "text/plain": [
       "[[1, 2], [3, 4], [5, 6]]"
      ]
     },
     "execution_count": 61,
     "metadata": {},
     "output_type": "execute_result"
    }
   ],
   "source": [
    "list_of_lists = [[1, 2], [3, 4], [5, 6]]\n",
    "list_of_lists"
   ]
  },
  {
   "cell_type": "markdown",
   "id": "b403fa06-84da-4246-9bbd-4838b01c5c87",
   "metadata": {},
   "source": [
    "## Tuples"
   ]
  },
  {
   "cell_type": "markdown",
   "id": "568656e0-33b7-4c3f-ba98-a54deee5e263",
   "metadata": {},
   "source": [
    "Tuples are very similar to lists but are defined by using parenthesis (..). The difference, as we will see further down is that tuples are immutable. That means that you cannot change elements of a tuple after you have created it."
   ]
  },
  {
   "cell_type": "code",
   "execution_count": 37,
   "id": "a8d67333-6b74-4f74-93d2-09cd6caa6748",
   "metadata": {},
   "outputs": [
    {
     "data": {
      "text/plain": [
       "(1, 2, 3, 4)"
      ]
     },
     "execution_count": 37,
     "metadata": {},
     "output_type": "execute_result"
    }
   ],
   "source": [
    "mytuple = (1, 2, 3, 4)\n",
    "mytuple"
   ]
  },
  {
   "cell_type": "code",
   "execution_count": 38,
   "id": "1504b58c-ed71-4c6d-8b81-8ac67d7414a3",
   "metadata": {},
   "outputs": [
    {
     "data": {
      "text/plain": [
       "('string', True, 1, 0)"
      ]
     },
     "execution_count": 38,
     "metadata": {},
     "output_type": "execute_result"
    }
   ],
   "source": [
    "my_mixed_tuple = (\"string\", True, 1, 0)\n",
    "my_mixed_tuple"
   ]
  },
  {
   "cell_type": "code",
   "execution_count": 40,
   "id": "8fcee90a-1daf-4f8c-a278-0a58c16d8a14",
   "metadata": {},
   "outputs": [
    {
     "data": {
      "text/plain": [
       "((1, 2), (3, 4), (5, 6))"
      ]
     },
     "execution_count": 40,
     "metadata": {},
     "output_type": "execute_result"
    }
   ],
   "source": [
    "tuple_of_tuples = ((1, 2), (3, 4), (5, 6))\n",
    "tuple_of_tuples"
   ]
  },
  {
   "cell_type": "code",
   "execution_count": 41,
   "id": "e0717aa6-e672-49ea-b161-7fc33926ec3c",
   "metadata": {},
   "outputs": [
    {
     "data": {
      "text/plain": [
       "[(1, 2), (3, 4), (5, 6)]"
      ]
     },
     "execution_count": 41,
     "metadata": {},
     "output_type": "execute_result"
    }
   ],
   "source": [
    "list_of_tuples = [(1, 2), (3, 4), (5, 6)]\n",
    "list_of_tuples"
   ]
  },
  {
   "cell_type": "markdown",
   "id": "7f792062-9add-4079-800e-96c9111f6fb6",
   "metadata": {},
   "source": [
    "## Indexing"
   ]
  },
  {
   "cell_type": "markdown",
   "id": "28d83ea7-84c7-4128-92ee-ac3631b53c55",
   "metadata": {},
   "source": [
    "In Python we use indexing to select an individual or a range of elements from lists and tuples. The index is just like a cell number in an excel row except that the first\n",
    "element in the list has index number 0 and not 1 as in excel."
   ]
  },
  {
   "cell_type": "code",
   "execution_count": 48,
   "id": "1210cf19-f68e-40b9-ab82-161bf1f8a2f5",
   "metadata": {},
   "outputs": [
    {
     "data": {
      "text/plain": [
       "['string', True, 1, 0]"
      ]
     },
     "execution_count": 48,
     "metadata": {},
     "output_type": "execute_result"
    }
   ],
   "source": [
    "my_mixed_list"
   ]
  },
  {
   "cell_type": "code",
   "execution_count": 46,
   "id": "f73b2629-b75c-4da7-ae72-b9eaea6b4478",
   "metadata": {},
   "outputs": [
    {
     "data": {
      "text/plain": [
       "'string'"
      ]
     },
     "execution_count": 46,
     "metadata": {},
     "output_type": "execute_result"
    }
   ],
   "source": [
    "my_mixed_list[0]  # Here we select the first element of the list my_mixed_list by providing the index number 0."
   ]
  },
  {
   "cell_type": "code",
   "execution_count": 49,
   "id": "09551b45-672b-447d-8e1d-d7e839fca77d",
   "metadata": {},
   "outputs": [
    {
     "data": {
      "text/plain": [
       "1"
      ]
     },
     "execution_count": 49,
     "metadata": {},
     "output_type": "execute_result"
    }
   ],
   "source": [
    "my_mixed_list[2]  # Here we select the third element of the list my_mixed_list by providing the index number 0."
   ]
  },
  {
   "cell_type": "markdown",
   "id": "fa5e0764-659c-4470-b248-efe751bcec9e",
   "metadata": {},
   "source": [
    "To select a range of elements we use write a span using colons. Note that the right index number is not included."
   ]
  },
  {
   "cell_type": "code",
   "execution_count": 51,
   "id": "f5256a54-4d5a-4308-b727-b613bd99a452",
   "metadata": {},
   "outputs": [
    {
     "data": {
      "text/plain": [
       "['string', True]"
      ]
     },
     "execution_count": 51,
     "metadata": {},
     "output_type": "execute_result"
    }
   ],
   "source": [
    "my_mixed_list[0:2]  # Will give us the first two elements, it does not include the element with index 2."
   ]
  },
  {
   "cell_type": "code",
   "execution_count": 53,
   "id": "c4429065-8378-43e4-9247-09614c972089",
   "metadata": {},
   "outputs": [
    {
     "data": {
      "text/plain": [
       "[True, 1, 0]"
      ]
     },
     "execution_count": 53,
     "metadata": {},
     "output_type": "execute_result"
    }
   ],
   "source": [
    "my_mixed_list[1:]  # If we don't specify an index number on one of the sides of the colon sign we imply the left most or right most element"
   ]
  },
  {
   "cell_type": "code",
   "execution_count": 55,
   "id": "26958db5-d4d3-4704-a887-158144a5008d",
   "metadata": {},
   "outputs": [
    {
     "data": {
      "text/plain": [
       "['string', True, 1]"
      ]
     },
     "execution_count": 55,
     "metadata": {},
     "output_type": "execute_result"
    }
   ],
   "source": [
    "my_mixed_list[:3]"
   ]
  },
  {
   "cell_type": "markdown",
   "id": "1b145fe9-207f-44b8-9ce5-0f285d1c0486",
   "metadata": {},
   "source": [
    "We can also index in reverse by using negative numbers. Thus providing -1 as an index will give of the last element of the list"
   ]
  },
  {
   "cell_type": "code",
   "execution_count": 60,
   "id": "cade3110-8ae1-4b7d-aec2-bdde4be3d1fe",
   "metadata": {},
   "outputs": [
    {
     "data": {
      "text/plain": [
       "0"
      ]
     },
     "execution_count": 60,
     "metadata": {},
     "output_type": "execute_result"
    }
   ],
   "source": [
    "my_mixed_list[-1]"
   ]
  },
  {
   "cell_type": "markdown",
   "id": "b33a7ce1-7139-41ed-93aa-b55d3f7c1a39",
   "metadata": {},
   "source": [
    "To index a list of list or tuple of tuples we simply double index like so:"
   ]
  },
  {
   "cell_type": "code",
   "execution_count": 63,
   "id": "7c102edc-7df6-4026-9edf-5f71747c3328",
   "metadata": {},
   "outputs": [
    {
     "data": {
      "text/plain": [
       "[1, 2]"
      ]
     },
     "execution_count": 63,
     "metadata": {},
     "output_type": "execute_result"
    }
   ],
   "source": [
    "list_of_lists[0]"
   ]
  },
  {
   "cell_type": "code",
   "execution_count": 66,
   "id": "0612bbb0-72dd-41ee-9ba0-d1efd2b43024",
   "metadata": {},
   "outputs": [
    {
     "data": {
      "text/plain": [
       "1"
      ]
     },
     "execution_count": 66,
     "metadata": {},
     "output_type": "execute_result"
    }
   ],
   "source": [
    "list_of_lists[0][0]"
   ]
  },
  {
   "cell_type": "code",
   "execution_count": 67,
   "id": "a6583664-2fcc-438f-b22a-8d35d8a2cb44",
   "metadata": {},
   "outputs": [
    {
     "data": {
      "text/plain": [
       "2"
      ]
     },
     "execution_count": 67,
     "metadata": {},
     "output_type": "execute_result"
    }
   ],
   "source": [
    "list_of_lists[0][-1]"
   ]
  },
  {
   "cell_type": "markdown",
   "id": "4d2f0d33-e5ab-4f49-bd8e-71f0a5cd6e92",
   "metadata": {},
   "source": [
    "By specifying specific elements of a list we can change the elements. This is the main difference between tuples and list. This is not possible with Tuples"
   ]
  },
  {
   "cell_type": "code",
   "execution_count": 69,
   "id": "8fc8e96e-9f83-4999-a497-3e4a12aee17e",
   "metadata": {},
   "outputs": [
    {
     "data": {
      "text/plain": [
       "['Cat', True, 1, 0]"
      ]
     },
     "execution_count": 69,
     "metadata": {},
     "output_type": "execute_result"
    }
   ],
   "source": [
    "my_mixed_list[0] = \"Cat\"\n",
    "my_mixed_list"
   ]
  },
  {
   "cell_type": "code",
   "execution_count": 77,
   "id": "2171338a-e6b9-4519-aed6-977e10b7c684",
   "metadata": {},
   "outputs": [
    {
     "ename": "TypeError",
     "evalue": "'tuple' object does not support item assignment",
     "output_type": "error",
     "traceback": [
      "\u001b[1;31m---------------------------------------------------------------------------\u001b[0m",
      "\u001b[1;31mTypeError\u001b[0m                                 Traceback (most recent call last)",
      "\u001b[1;32m~\\AppData\\Local\\Temp/ipykernel_9468/4044720887.py\u001b[0m in \u001b[0;36m<module>\u001b[1;34m\u001b[0m\n\u001b[1;32m----> 1\u001b[1;33m \u001b[0mmy_mixed_tuple\u001b[0m\u001b[1;33m[\u001b[0m\u001b[1;36m0\u001b[0m\u001b[1;33m]\u001b[0m \u001b[1;33m=\u001b[0m \u001b[1;34m\"Cat\"\u001b[0m  \u001b[1;31m# Is not allowed!\u001b[0m\u001b[1;33m\u001b[0m\u001b[1;33m\u001b[0m\u001b[0m\n\u001b[0m",
      "\u001b[1;31mTypeError\u001b[0m: 'tuple' object does not support item assignment"
     ]
    }
   ],
   "source": [
    "my_mixed_tuple[0] = \"Cat\"  # Is not allowed!"
   ]
  },
  {
   "cell_type": "markdown",
   "id": "15e267ad-bef1-4e43-88a7-1885fba5fcce",
   "metadata": {},
   "source": [
    "We can also append elements to a list at the end of the list"
   ]
  },
  {
   "cell_type": "code",
   "execution_count": 70,
   "id": "9b046a02-6083-4361-b73e-73a9b7fc2d1c",
   "metadata": {},
   "outputs": [
    {
     "data": {
      "text/plain": [
       "['Cat', True, 1, 0, 'Dog']"
      ]
     },
     "execution_count": 70,
     "metadata": {},
     "output_type": "execute_result"
    }
   ],
   "source": [
    "my_mixed_list.append(\"Dog\")\n",
    "my_mixed_list"
   ]
  },
  {
   "cell_type": "markdown",
   "id": "b35fd254-8f72-4266-815c-a97dbbe93708",
   "metadata": {},
   "source": [
    "We can join several lists using the + sign"
   ]
  },
  {
   "cell_type": "code",
   "execution_count": 72,
   "id": "06531691-5e86-45e1-b641-f175eb82b065",
   "metadata": {},
   "outputs": [
    {
     "data": {
      "text/plain": [
       "[1, 2, 3, 4, 5, 6]"
      ]
     },
     "execution_count": 72,
     "metadata": {},
     "output_type": "execute_result"
    }
   ],
   "source": [
    "[1, 2, 3] + [4, 5, 6]"
   ]
  },
  {
   "cell_type": "markdown",
   "id": "abdbf1fa-c52b-4766-903c-db821f4a3ff1",
   "metadata": {},
   "source": [
    "Not that you cannot append a non list to a list by using +. This will not work"
   ]
  },
  {
   "cell_type": "code",
   "execution_count": 75,
   "id": "57b3c945-885b-4168-8198-07e3c60cd241",
   "metadata": {},
   "outputs": [
    {
     "ename": "TypeError",
     "evalue": "can only concatenate list (not \"int\") to list",
     "output_type": "error",
     "traceback": [
      "\u001b[1;31m---------------------------------------------------------------------------\u001b[0m",
      "\u001b[1;31mTypeError\u001b[0m                                 Traceback (most recent call last)",
      "\u001b[1;32m~\\AppData\\Local\\Temp/ipykernel_9468/3235482733.py\u001b[0m in \u001b[0;36m<module>\u001b[1;34m\u001b[0m\n\u001b[1;32m----> 1\u001b[1;33m \u001b[1;33m[\u001b[0m\u001b[1;36m1\u001b[0m\u001b[1;33m,\u001b[0m \u001b[1;36m2\u001b[0m\u001b[1;33m,\u001b[0m \u001b[1;36m3\u001b[0m\u001b[1;33m]\u001b[0m \u001b[1;33m+\u001b[0m \u001b[1;36m4\u001b[0m\u001b[1;33m\u001b[0m\u001b[1;33m\u001b[0m\u001b[0m\n\u001b[0m",
      "\u001b[1;31mTypeError\u001b[0m: can only concatenate list (not \"int\") to list"
     ]
    }
   ],
   "source": [
    "[1, 2, 3] + 4"
   ]
  },
  {
   "cell_type": "markdown",
   "id": "cccb9bca-a71a-4dfb-8d9b-d86413840564",
   "metadata": {},
   "source": [
    "You can duplicate and extend a list using * sign"
   ]
  },
  {
   "cell_type": "code",
   "execution_count": 78,
   "id": "8470697f-d4ad-459e-8da2-08f2a7864415",
   "metadata": {},
   "outputs": [
    {
     "data": {
      "text/plain": [
       "[1, 2, 3, 1, 2, 3, 1, 2, 3, 1, 2, 3]"
      ]
     },
     "execution_count": 78,
     "metadata": {},
     "output_type": "execute_result"
    }
   ],
   "source": [
    "[1, 2, 3]*4"
   ]
  },
  {
   "cell_type": "markdown",
   "id": "3c3202ee-f67b-4e2b-85ec-209e309c29f1",
   "metadata": {},
   "source": [
    "To get the length of a list or tuple we can use the ```len()``` function."
   ]
  },
  {
   "cell_type": "code",
   "execution_count": 80,
   "id": "3f761823-1c6a-463a-8ddb-17cb10427ac5",
   "metadata": {},
   "outputs": [
    {
     "data": {
      "text/plain": [
       "12"
      ]
     },
     "execution_count": 80,
     "metadata": {},
     "output_type": "execute_result"
    }
   ],
   "source": [
    "len([1, 2, 3]*4)"
   ]
  },
  {
   "cell_type": "markdown",
   "id": "8bb96ce1-c425-48b5-8d0d-3b954b98e0ea",
   "metadata": {},
   "source": [
    "## Dictionaries"
   ]
  },
  {
   "cell_type": "markdown",
   "id": "afd42a0b-9eb3-41f9-95d8-403996107508",
   "metadata": {},
   "source": [
    "Dictionaries are a unqiue data type that is very convenient to use for storing data. \n",
    "\n",
    "A dictionary is list of key-value pairs. On the form \n",
    "\n",
    "{ \n",
    "  key_1 : value_1,\n",
    "  key_2 : value_2,\n",
    "  key_3 : value_3,\n",
    "}\n",
    "\n",
    "We comma separate each key : value pair and each key-value pair is grouped using \":\"."
   ]
  },
  {
   "cell_type": "code",
   "execution_count": 82,
   "id": "212a89b4-e3aa-4c71-bfe1-610a775004d9",
   "metadata": {},
   "outputs": [
    {
     "data": {
      "text/plain": [
       "{'Dog': 'Beagle', 'Cat': 'Siamese', 'Fish': 'Harring'}"
      ]
     },
     "execution_count": 82,
     "metadata": {},
     "output_type": "execute_result"
    }
   ],
   "source": [
    "my_dict = {\n",
    "    \"Dog\" : \"Beagle\",\n",
    "    \"Cat\" : \"Siamese\",\n",
    "    \"Fish\" : \"Harring\"\n",
    "}\n",
    "\n",
    "my_dict"
   ]
  },
  {
   "cell_type": "markdown",
   "id": "1aebef66-7252-4542-a46c-440e48b918f8",
   "metadata": {},
   "source": [
    "The keys of a dictionary is used to retrieve the specific value from the dictonary. We use indexing but instead of providing numbers, we prodive the specific key."
   ]
  },
  {
   "cell_type": "code",
   "execution_count": 83,
   "id": "ab704a2f-a845-4ac8-a14c-21417b8f9016",
   "metadata": {},
   "outputs": [
    {
     "data": {
      "text/plain": [
       "'Beagle'"
      ]
     },
     "execution_count": 83,
     "metadata": {},
     "output_type": "execute_result"
    }
   ],
   "source": [
    "my_dict[\"Dog\"]"
   ]
  },
  {
   "cell_type": "code",
   "execution_count": 85,
   "id": "69d767ed-6b2d-4215-8a4c-c2044fdcfc0d",
   "metadata": {},
   "outputs": [
    {
     "data": {
      "text/plain": [
       "'Siamese'"
      ]
     },
     "execution_count": 85,
     "metadata": {},
     "output_type": "execute_result"
    }
   ],
   "source": [
    "my_dict[\"Cat\"]"
   ]
  },
  {
   "cell_type": "markdown",
   "id": "f1da9409-280d-42dd-9158-cc31a192718e",
   "metadata": {},
   "source": [
    "Keys can be either strings or integers and the values can by anything!"
   ]
  },
  {
   "cell_type": "code",
   "execution_count": 87,
   "id": "5c303c75-a930-4e02-9420-b2f722746bac",
   "metadata": {},
   "outputs": [],
   "source": [
    "my_dict_2 = {\n",
    "    0 : [0, 0, 0],\n",
    "    1 : \"String\",\n",
    "    2 : True\n",
    "}"
   ]
  },
  {
   "cell_type": "code",
   "execution_count": 88,
   "id": "eac12220-6fa9-4380-a95b-5e7338d83189",
   "metadata": {},
   "outputs": [
    {
     "data": {
      "text/plain": [
       "True"
      ]
     },
     "execution_count": 88,
     "metadata": {},
     "output_type": "execute_result"
    }
   ],
   "source": [
    "my_dict_2[2]"
   ]
  },
  {
   "cell_type": "code",
   "execution_count": 89,
   "id": "6a128416-4932-44c8-87de-c3d30b602f36",
   "metadata": {},
   "outputs": [
    {
     "data": {
      "text/plain": [
       "[0, 0, 0]"
      ]
     },
     "execution_count": 89,
     "metadata": {},
     "output_type": "execute_result"
    }
   ],
   "source": [
    "my_dict_2[0]"
   ]
  },
  {
   "cell_type": "markdown",
   "id": "b9fa9e9f-6902-496c-a43f-5ecd55e311be",
   "metadata": {},
   "source": [
    "Values of a dictionary can be changed"
   ]
  },
  {
   "cell_type": "code",
   "execution_count": 91,
   "id": "8f5ce42e-bdb2-41c8-9460-045978ee4644",
   "metadata": {},
   "outputs": [
    {
     "data": {
      "text/plain": [
       "{0: 'new_value', 1: 'String', 2: True}"
      ]
     },
     "execution_count": 91,
     "metadata": {},
     "output_type": "execute_result"
    }
   ],
   "source": [
    "my_dict_2[0] = \"new_value\"\n",
    "my_dict_2"
   ]
  },
  {
   "cell_type": "markdown",
   "id": "c5a4c298-c6fd-44b8-96ca-a6fc4abe952c",
   "metadata": {},
   "source": [
    "You can add a \"key:value\" pair by simply indexing with new key. "
   ]
  },
  {
   "cell_type": "code",
   "execution_count": 93,
   "id": "24dbb48f-2f99-4b3b-9515-065e22d2db41",
   "metadata": {},
   "outputs": [
    {
     "data": {
      "text/plain": [
       "{0: 'new_value', 1: 'String', 2: True, 3: 'new key-value pair'}"
      ]
     },
     "execution_count": 93,
     "metadata": {},
     "output_type": "execute_result"
    }
   ],
   "source": [
    "my_dict_2[3] = \"new key-value pair\"\n",
    "my_dict_2"
   ]
  },
  {
   "cell_type": "markdown",
   "id": "5ad78833-666d-4d3b-9d27-934b7b253126",
   "metadata": {},
   "source": [
    "## DataFrames"
   ]
  },
  {
   "cell_type": "markdown",
   "id": "64ecac53-9b80-4f5b-8bb0-e5dcc3dc5b37",
   "metadata": {},
   "source": [
    "Dataframes are like having an Excel spreadsheet in Python. Typically we create dataframes by reading csv or excel files. "
   ]
  },
  {
   "cell_type": "code",
   "execution_count": 96,
   "id": "0923fd1f-3cc4-4f01-8320-bc9d874b0435",
   "metadata": {},
   "outputs": [
    {
     "data": {
      "text/html": [
       "<div>\n",
       "<style scoped>\n",
       "    .dataframe tbody tr th:only-of-type {\n",
       "        vertical-align: middle;\n",
       "    }\n",
       "\n",
       "    .dataframe tbody tr th {\n",
       "        vertical-align: top;\n",
       "    }\n",
       "\n",
       "    .dataframe thead th {\n",
       "        text-align: right;\n",
       "    }\n",
       "</style>\n",
       "<table border=\"1\" class=\"dataframe\">\n",
       "  <thead>\n",
       "    <tr style=\"text-align: right;\">\n",
       "      <th></th>\n",
       "      <th>A</th>\n",
       "      <th>B</th>\n",
       "      <th>C</th>\n",
       "      <th>D</th>\n",
       "    </tr>\n",
       "  </thead>\n",
       "  <tbody>\n",
       "    <tr>\n",
       "      <th>0</th>\n",
       "      <td>a</td>\n",
       "      <td>10</td>\n",
       "      <td>0.1</td>\n",
       "      <td>True</td>\n",
       "    </tr>\n",
       "    <tr>\n",
       "      <th>1</th>\n",
       "      <td>b</td>\n",
       "      <td>5</td>\n",
       "      <td>0.4</td>\n",
       "      <td>False</td>\n",
       "    </tr>\n",
       "    <tr>\n",
       "      <th>2</th>\n",
       "      <td>c</td>\n",
       "      <td>4</td>\n",
       "      <td>0.5</td>\n",
       "      <td>False</td>\n",
       "    </tr>\n",
       "    <tr>\n",
       "      <th>3</th>\n",
       "      <td>d</td>\n",
       "      <td>3</td>\n",
       "      <td>10.5</td>\n",
       "      <td>True</td>\n",
       "    </tr>\n",
       "  </tbody>\n",
       "</table>\n",
       "</div>"
      ],
      "text/plain": [
       "   A   B     C      D\n",
       "0  a  10   0.1   True\n",
       "1  b   5   0.4  False\n",
       "2  c   4   0.5  False\n",
       "3  d   3  10.5   True"
      ]
     },
     "execution_count": 96,
     "metadata": {},
     "output_type": "execute_result"
    }
   ],
   "source": [
    "df = pd.read_csv(\"resources/data.csv\", delimiter=\"\\t\")\n",
    "df"
   ]
  },
  {
   "cell_type": "markdown",
   "id": "2cb63c50-795e-442f-86b5-f3e873af25d8",
   "metadata": {},
   "source": [
    "# Control Flow"
   ]
  },
  {
   "cell_type": "markdown",
   "id": "ab3df0fe-37f1-4b21-ad47-1a29d0a59ba0",
   "metadata": {},
   "source": [
    "## If-Else statements"
   ]
  },
  {
   "cell_type": "markdown",
   "id": "dd10dc57-a916-416d-af24-8980bfd09f4a",
   "metadata": {},
   "source": [
    "Implementing logic in Python is often done using If/Else statements. With these we can execute specific code given the truth value of a logical statments."
   ]
  },
  {
   "cell_type": "code",
   "execution_count": 13,
   "id": "07abfc9e-eb08-4762-a954-ffcd4ef35424",
   "metadata": {},
   "outputs": [
    {
     "name": "stdout",
     "output_type": "stream",
     "text": [
      "x = 5 is not larger than 10!\n"
     ]
    }
   ],
   "source": [
    "import random\n",
    "x = random.randrange(0, 20)\n",
    "\n",
    "if x > 10:\n",
    "    print(f\"x = {x} is larger than 10\")\n",
    "else:\n",
    "    print(f\"x = {x} is not larger than 10!\")"
   ]
  },
  {
   "cell_type": "markdown",
   "id": "f1f1dee6-90ed-4a06-97ce-3c05eef7e559",
   "metadata": {},
   "source": [
    "## For and While loops"
   ]
  },
  {
   "cell_type": "markdown",
   "id": "8850cf0a-7b7b-4012-8017-1d9a247eb990",
   "metadata": {},
   "source": [
    "Loops are used to repeat a set of python instructions. There are two types of loops in Python.\n",
    "* The For Loop (in python this technically a For-in loop)\n",
    "* The While Loop"
   ]
  },
  {
   "cell_type": "markdown",
   "id": "45fe0d87-ef6a-444b-8d4f-dce8c9c987c4",
   "metadata": {},
   "source": [
    "### For Loops"
   ]
  },
  {
   "cell_type": "code",
   "execution_count": 14,
   "id": "068dab7b-95f8-407c-9462-b2706647d5e6",
   "metadata": {},
   "outputs": [
    {
     "name": "stdout",
     "output_type": "stream",
     "text": [
      "0\n",
      "1\n",
      "2\n",
      "3\n",
      "4\n",
      "5\n",
      "6\n",
      "7\n",
      "8\n",
      "9\n"
     ]
    }
   ],
   "source": [
    "i = 0\n",
    "for i in range(0, 10): # Here we have specified the number of loops\n",
    "    print(i)\n",
    "    i += 1"
   ]
  },
  {
   "cell_type": "markdown",
   "id": "d401a1d0-a0b4-433a-aaab-69b964791b50",
   "metadata": {},
   "source": [
    "### While loops"
   ]
  },
  {
   "cell_type": "code",
   "execution_count": 15,
   "id": "7593f19f-8f4b-4b69-8950-b39bc822d068",
   "metadata": {},
   "outputs": [
    {
     "name": "stdout",
     "output_type": "stream",
     "text": [
      "0\n",
      "1\n",
      "2\n",
      "3\n",
      "4\n",
      "5\n",
      "6\n",
      "7\n",
      "8\n",
      "9\n"
     ]
    }
   ],
   "source": [
    "max_iters = 10\n",
    "i = 0\n",
    "\n",
    "while i < max_iters:  # Here we set a logical statement. The loop will continue as long as the logical statemenet is False.\n",
    "    print(i)\n",
    "    i += 1"
   ]
  }
 ],
 "metadata": {
  "kernelspec": {
   "display_name": "Python 3 (ipykernel)",
   "language": "python",
   "name": "python3"
  },
  "language_info": {
   "codemirror_mode": {
    "name": "ipython",
    "version": 3
   },
   "file_extension": ".py",
   "mimetype": "text/x-python",
   "name": "python",
   "nbconvert_exporter": "python",
   "pygments_lexer": "ipython3",
   "version": "3.9.7"
  }
 },
 "nbformat": 4,
 "nbformat_minor": 5
}
